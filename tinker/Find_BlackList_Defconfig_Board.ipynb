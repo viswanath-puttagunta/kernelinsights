{
 "cells": [
  {
   "cell_type": "code",
   "execution_count": null,
   "metadata": {
    "collapsed": false
   },
   "outputs": [],
   "source": [
    "#Objective: Find BlackList of defconf,board-name"
   ]
  },
  {
   "cell_type": "code",
   "execution_count": null,
   "metadata": {
    "collapsed": true
   },
   "outputs": [],
   "source": [
    "import pandas as pd\n",
    "import json\n",
    "from pandas.io.json import json_normalize\n",
    "import matplotlib.pyplot as plt\n",
    "%matplotlib inline"
   ]
  },
  {
   "cell_type": "code",
   "execution_count": null,
   "metadata": {
    "collapsed": true
   },
   "outputs": [],
   "source": [
    "#Input Parameters\n",
    "job = 'next'\n",
    "date_range = 15\n",
    "offence_threshold = 5"
   ]
  },
  {
   "cell_type": "code",
   "execution_count": null,
   "metadata": {
    "collapsed": true
   },
   "outputs": [],
   "source": [
    "import requests\n",
    "from urlparse import urljoin\n",
    "import kernelci_api_key\n",
    "\n",
    "BACKEND_URL = \"http://api.kernelci.org\"\n",
    "\n",
    "def invoke():\n",
    "    headers = {\"Authorization\":kernelci_api_key.getkernelcikey()}\n",
    "    params = {\n",
    "            \"job\": job,\n",
    "            \"date_range\": date_range\n",
    "        }\n",
    "    url = urljoin(BACKEND_URL, \"/boot\")\n",
    "    response = requests.get(url, params=params, headers=headers)\n",
    "    return response.content"
   ]
  },
  {
   "cell_type": "code",
   "execution_count": null,
   "metadata": {
    "collapsed": false
   },
   "outputs": [],
   "source": [
    "#Plot above with interaction\n",
    "from bokeh.plotting import figure, output_file, output_notebook,show\n",
    "from bokeh.models import ColumnDataSource, Circle, HoverTool,CustomJS\n",
    "\n",
    "def draw_interactive(df, defconfig, board):\n",
    "    (x,y,k) = (df.index.to_series(), df['status_fl'],df['git_describe'])\n",
    "\n",
    "    #have to do this as Boken can't print Dates properly on Hover\n",
    "    ts = pd.to_datetime(x.values)\n",
    "    z = ts.strftime('%Y.%m.%d')\n",
    "\n",
    "    output_notebook()\n",
    "    p = figure(width=600,height=300,x_axis_type='datetime',\n",
    "               title=defconfig+'___'+board)\n",
    "    p.line(x,y,line_dash=\"4 4\", line_width=2,color='gray')\n",
    "\n",
    "    source = ColumnDataSource({'x':x,'y':y,'z':z,'k':k})\n",
    "\n",
    "    invisible_circle = Circle(x='x',y='y', fill_color='gray', fill_alpha=0.1, line_color=None, size=10)\n",
    "    visible_circle = Circle(x='x',y='y', fill_color='firebrick', fill_alpha=0.5, line_color=None, size=10)\n",
    "\n",
    "    cr = p.add_glyph(source, invisible_circle, selection_glyph=visible_circle, nonselection_glyph=invisible_circle)\n",
    "\n",
    "    #Add hover tool, that selects the circle\n",
    "    # Add a hover tool, that selects the circle\n",
    "    code = \"source.set('selected', cb_data['index']);\"\n",
    "\n",
    "    callback = CustomJS(args={'source': source}, code=code)\n",
    "\n",
    "    p.add_tools(HoverTool(\n",
    "                tooltips=[\n",
    "                            (\"d\", \"@z\"),\n",
    "                            (\"stat\", \"@y\"),\n",
    "                            ('gd', \"@k\")\n",
    "                        ], \n",
    "                callback=callback, \n",
    "                renderers=[cr], \n",
    "                mode='vline'))\n",
    "    show(p)\n",
    "           "
   ]
  },
  {
   "cell_type": "code",
   "execution_count": null,
   "metadata": {
    "collapsed": false
   },
   "outputs": [],
   "source": [
    "content = invoke()\n",
    "contentjs = json.loads(content)\n",
    "df = json_normalize(contentjs['result'])"
   ]
  },
  {
   "cell_type": "code",
   "execution_count": null,
   "metadata": {
    "collapsed": false
   },
   "outputs": [],
   "source": [
    "#Select only columns we care about for this work\n",
    "df2 = df[['_id.$oid',u'arch',u'board',u'board_instance',\n",
    "           u'created_on.$date',u'defconfig',u'dtb',\n",
    "           u'git_describe',u'lab_name',u'mach',u'status']]\n",
    "\n",
    "#convert created_on to datetime and use as index\n",
    "df2['created_on'] = pd.to_datetime(df2['created_on.$date'],unit='ms')\n",
    "df2 = df2.set_index('created_on')\n",
    "df2 = df2.drop('created_on.$date',axis=1)\n",
    "\n",
    "#Consider only Pass and Fail\n",
    "df2 = df2[df2.status.isin(['PASS','FAIL'])]\n",
    "df2['status_fl'] = df2.status.map({'PASS':1,'FAIL':0})\n",
    "\n",
    "del df\n",
    "df2.head()"
   ]
  },
  {
   "cell_type": "code",
   "execution_count": null,
   "metadata": {
    "collapsed": false
   },
   "outputs": [],
   "source": [
    "df3 = df2.groupby(['defconfig','board']).mean()"
   ]
  },
  {
   "cell_type": "code",
   "execution_count": null,
   "metadata": {
    "collapsed": false
   },
   "outputs": [],
   "source": [
    "df3['offence_score'] = (1 - df3.status_fl)*100\n",
    "df5 = df3[df3.offence_score > offence_threshold]\n",
    "df5"
   ]
  },
  {
   "cell_type": "code",
   "execution_count": null,
   "metadata": {
    "collapsed": false
   },
   "outputs": [],
   "source": [
    "#Understand why certain combination is really offensive\n",
    "defconfig = 'exynos_defconfig'\n",
    "board = 'exynos5250-arndale'\n",
    "\n",
    "df4 = df2[(df2.defconfig == defconfig) & (df2.board == board)].sort_index()\n",
    "draw_interactive(df4,defconfig,board)"
   ]
  },
  {
   "cell_type": "code",
   "execution_count": null,
   "metadata": {
    "collapsed": false,
    "scrolled": false
   },
   "outputs": [],
   "source": [
    "for x in df5.reset_index().values:\n",
    "    df4 = df2[(df2.defconfig == x[0]) & (df2.board == x[1])].sort_index()\n",
    "    draw_interactive(df4,x[0],x[1])"
   ]
  },
  {
   "cell_type": "code",
   "execution_count": null,
   "metadata": {
    "collapsed": true
   },
   "outputs": [],
   "source": []
  }
 ],
 "metadata": {
  "kernelspec": {
   "display_name": "Python 2",
   "language": "python",
   "name": "python2"
  },
  "language_info": {
   "codemirror_mode": {
    "name": "ipython",
    "version": 2
   },
   "file_extension": ".py",
   "mimetype": "text/x-python",
   "name": "python",
   "nbconvert_exporter": "python",
   "pygments_lexer": "ipython2",
   "version": "2.7.9"
  }
 },
 "nbformat": 4,
 "nbformat_minor": 0
}

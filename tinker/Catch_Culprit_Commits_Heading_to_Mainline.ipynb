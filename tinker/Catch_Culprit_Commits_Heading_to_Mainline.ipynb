{
 "cells": [
  {
   "cell_type": "code",
   "execution_count": null,
   "metadata": {
    "collapsed": false
   },
   "outputs": [],
   "source": [
    "#Objective: If something was passing in mainline.. but failing in 'next', want to catch those commits causing regressions.\n",
    "\n",
    "#Note: Not dealing with situations where we don't have data for last 2 days."
   ]
  },
  {
   "cell_type": "code",
   "execution_count": null,
   "metadata": {
    "collapsed": true
   },
   "outputs": [],
   "source": [
    "import pandas as pd\n",
    "import json\n",
    "from pandas.io.json import json_normalize\n",
    "import matplotlib.pyplot as plt\n",
    "import datetime\n",
    "%matplotlib inline"
   ]
  },
  {
   "cell_type": "code",
   "execution_count": null,
   "metadata": {
    "collapsed": true
   },
   "outputs": [],
   "source": [
    "#Input Parameters\n",
    "job1 = 'mainline'\n",
    "job2 = 'next'\n",
    "date_range = 10\n",
    "threshold = 0.01\n",
    "last_days=2"
   ]
  },
  {
   "cell_type": "code",
   "execution_count": null,
   "metadata": {
    "collapsed": true
   },
   "outputs": [],
   "source": [
    "import requests\n",
    "from urlparse import urljoin\n",
    "import kernelci_api_key\n",
    "\n",
    "BACKEND_URL = \"http://api.kernelci.org\"\n",
    "\n",
    "def invoke(job_name, date_range_loc):\n",
    "    headers = {\"Authorization\":kernelci_api_key.getkernelcikey()}\n",
    "    params = {\n",
    "            \"job\": job_name,\n",
    "            \"date_range\": date_range_loc\n",
    "        }\n",
    "    url = urljoin(BACKEND_URL, \"/boot\")\n",
    "    response = requests.get(url, params=params, headers=headers)\n",
    "    return response.content\n",
    "\n",
    "def getDfBoots(job_name, date_range_loc):\n",
    "    content = invoke(job_name, date_range_loc)\n",
    "    contentjs = json.loads(content)\n",
    "    df = json_normalize(contentjs['result'])\n",
    "    \n",
    "    #Select only columns we care about for boot pass/fail analysis\n",
    "    df2 = df[['_id.$oid',u'arch',u'board',u'board_instance',\n",
    "           u'created_on.$date',u'defconfig',u'dtb',\n",
    "           u'git_describe',u'lab_name',u'mach',u'status']]\n",
    "\n",
    "    #convert created_on to datetime and use as index\n",
    "    df2['created_on'] = pd.to_datetime(df2['created_on.$date'],unit='ms')\n",
    "    df2 = df2.set_index('created_on')\n",
    "    df2 = df2.drop('created_on.$date',axis=1)\n",
    "\n",
    "    #Consider only Pass and Fail\n",
    "    df2 = df2[df2.status.isin(['PASS','FAIL'])]\n",
    "    df2['status_fl'] = df2.status.map({'PASS':1,'FAIL':0})\n",
    "\n",
    "    #Sort index of dates\n",
    "    df2 = df2.sort_index()\n",
    "    del df\n",
    "    \n",
    "    #Find Boot pass percentage and number of boots for all days\n",
    "    df3 = df2.groupby(['defconfig','board']).mean()\n",
    "    df3.columns = [job_name+'_st_L']\n",
    "    df3[job_name+'_c_L'] = df2.groupby(['defconfig','board']).count().status_fl\n",
    "    \n",
    "    #Find Boot pass percentage and number of boots for last 'last_days' days\n",
    "    df4 = df2[(df2.index[-1] - datetime.timedelta(last_days)):df2.index[-1]].groupby(['defconfig','board']).mean()\n",
    "    df4.columns = [job_name+'_st_S']\n",
    "    df4[job_name+'_c_S'] = df2[(df2.index[-1] - datetime.timedelta(last_days)):df2.index[-1]].groupby(['defconfig','board']).count().status_fl\n",
    "      \n",
    "    return (df2,df3.join(df4,how='inner'))"
   ]
  },
  {
   "cell_type": "code",
   "execution_count": null,
   "metadata": {
    "collapsed": false
   },
   "outputs": [],
   "source": [
    "#Plot two overlapping defconfig-board with interaction\n",
    "from bokeh.plotting import figure, output_file, output_notebook,show, GridPlot \n",
    "from bokeh.models import ColumnDataSource, Circle, HoverTool,CustomJS\n",
    "\n",
    "def retSimpleLists(df, defconfig, board, name):\n",
    "    df2 = df[(df.defconfig == defconfig) & (df.board == board)]\n",
    "    (x,y,k) = (df2.index.to_series(), df2['status_fl'],df2['git_describe'])\n",
    "    ts = pd.to_datetime(x.values)\n",
    "    z = ts.strftime('%Y.%m.%d')\n",
    "    n = []\n",
    "    for i in range(0,len(x)):\n",
    "        n.append(name)\n",
    "    return (x,y,k,z,n)\n",
    "\n",
    "def retInteractiveFig(x,y,k,z,color,title):\n",
    "    p = figure(width=600,height=300,x_axis_type='datetime', title=title)\n",
    "    p.line(x,y,line_dash=\"4 4\", line_width=2,color=color)\n",
    "    source = ColumnDataSource({'x':x,'y':y,'z':z,'k':k})\n",
    "    \n",
    "    invisible_circle = Circle(x='x',y='y', fill_color=color, fill_alpha=0.1, line_color=None, size=10)\n",
    "    visible_circle = Circle(x='x',y='y', fill_color='firebrick', fill_alpha=0.5, line_color=None, size=10)\n",
    "    \n",
    "    cr = p.add_glyph(source, invisible_circle, selection_glyph=visible_circle, \n",
    "                      nonselection_glyph=invisible_circle)\n",
    "    \n",
    "    #Add hover tool, that selects the circle\n",
    "    # Add a hover tool, that selects the circle\n",
    "    code = \"source.set('selected', cb_data['index']);\"\n",
    "\n",
    "    callback = CustomJS(args={'source': source}, code=code)\n",
    "\n",
    "    p.add_tools(HoverTool(\n",
    "                tooltips=[\n",
    "                            (\"d\", \"@z\"),\n",
    "                            (\"stat\", \"@y\"),\n",
    "                            ('gd', \"@k\")\n",
    "                        ], \n",
    "                callback=callback, \n",
    "                renderers=[cr], \n",
    "                mode='vline'))\n",
    "    return p\n",
    "\n",
    "def draw_interactive_2(df1, df2, defconfig, board):\n",
    "    #Reduce data to given defconfig-board combo\n",
    "    x1,y1,k1,z1,n1 = retSimpleLists(df1, defconfig, board,'mainline')\n",
    "    x2,y2,k2,z2,n2 = retSimpleLists(df2, defconfig, board,'next')\n",
    "\n",
    "    output_notebook()\n",
    "    \n",
    "    #draw line,circles for df1 (Eg: mainline)\n",
    "    p1 = retInteractiveFig(x1,y1,k1,z1,'blue','mainline')\n",
    "    p2 = retInteractiveFig(x2,y2,k2,z2,'red','next')\n",
    "    show(p1)\n",
    "    show(p2)\n",
    "    #gp = GridPlot(children=[p1,p2])\n",
    "    #show(gp)"
   ]
  },
  {
   "cell_type": "code",
   "execution_count": null,
   "metadata": {
    "collapsed": false
   },
   "outputs": [],
   "source": [
    "df_mainline,df_mainline_sum = getDfBoots('mainline', date_range)"
   ]
  },
  {
   "cell_type": "code",
   "execution_count": null,
   "metadata": {
    "collapsed": false
   },
   "outputs": [],
   "source": [
    "df_next,df_next_sum = getDfBoots('next', date_range)"
   ]
  },
  {
   "cell_type": "code",
   "execution_count": null,
   "metadata": {
    "collapsed": false
   },
   "outputs": [],
   "source": [
    "df = df_mainline_sum.join(df_next_sum, how='inner')[['mainline_st_S','next_st_S']]\n",
    "df[(df.mainline_st_S - df.next_st_S) > threshold]"
   ]
  },
  {
   "cell_type": "code",
   "execution_count": null,
   "metadata": {
    "collapsed": false
   },
   "outputs": [],
   "source": [
    "draw_interactive_2(df_mainline,df_next,'multi_v7_defconfig', 'qcom-msm8974-sony-xperia-honami')"
   ]
  },
  {
   "cell_type": "code",
   "execution_count": null,
   "metadata": {
    "collapsed": false
   },
   "outputs": [],
   "source": [
    "defconfig = 'multi_v7_defconfig'\n",
    "board = 'qcom-msm8974-sony-xperia-honami'\n",
    "x1,y1,k1,z1,n1 = retSimpleLists(df_mainline, defconfig, board, 'mainline')\n",
    "x2,y2,k2,z2,n2 = retSimpleLists(df_next, defconfig, board, 'next')"
   ]
  },
  {
   "cell_type": "code",
   "execution_count": null,
   "metadata": {
    "collapsed": false
   },
   "outputs": [],
   "source": [
    "#Plot above with interaction\n",
    "from bokeh.plotting import figure, output_file, output_notebook,show\n",
    "from bokeh.models import ColumnDataSource, Circle, Triangle, HoverTool,CustomJS,BoxSelectTool\n",
    "\n",
    "p = figure(width=600,height=300,x_axis_type='datetime', title='Vish')\n",
    "#p.line(x1,y1,line_dash=\"4 4\", line_width=2,color='blue')\n",
    "p.line(x2,y2,line_dash=\"4 4\", line_width=2,color='green')\n",
    "\n",
    "source1 = ColumnDataSource({'x1':x1,'y1':y1,'z1':z1,'k1':k1,'n1':n1})\n",
    "source2 = ColumnDataSource({'x2':x1,'y2':y2,'z2':z2,'k2':k2,'n2':n2})\n",
    "\n",
    "mainline_glyph = Circle(x='x1',y='y1', fill_color='blue',fill_alpha=0.3,line_color=None, size=10)\n",
    "next_glyph = Circle(x='x2',y='y2', fill_color='green',fill_alpha=0.3,line_color=None, size=10)\n",
    "\n",
    "mainline_a = p.add_glyph(source1, mainline_glyph)\n",
    "next_a = p.add_glyph(source2, next_glyph)\n",
    "\n",
    "code = \"source.set('selected', cb_data['index']);\"\n",
    "callback = CustomJS(args={'source1': source1}, code=code)\n",
    "\n",
    "mainline_ht = HoverTool(\n",
    "                tooltips=[(\"n\", \"@n1\"),(\"d\", \"@z1\"),(\"stat\", \"@y1\"),('gd', \"@k1\")], \n",
    "                callback=callback, \n",
    "                renderers=[mainline_a], \n",
    "                mode='vline')\n",
    "\n",
    "code2 = \"source.set('selected', cb_data['index']);\"\n",
    "callback2 = CustomJS(args={'source': source2}, code=code2)\n",
    "next_ht = HoverTool(\n",
    "                tooltips=[(\"n\", \"@n2\"),(\"d\", \"@z2\"),(\"stat\", \"@y2\"),('gd', \"@k2\")], \n",
    "                callback=callback2, \n",
    "                renderers=[next_a], \n",
    "                mode='vline')\n",
    "\n",
    "p.add_tools(mainline_ht, next_ht)\n",
    "show(p)\n",
    "                        \n"
   ]
  },
  {
   "cell_type": "code",
   "execution_count": null,
   "metadata": {
    "collapsed": true
   },
   "outputs": [],
   "source": []
  }
 ],
 "metadata": {
  "kernelspec": {
   "display_name": "Python 2",
   "language": "python",
   "name": "python2"
  },
  "language_info": {
   "codemirror_mode": {
    "name": "ipython",
    "version": 2
   },
   "file_extension": ".py",
   "mimetype": "text/x-python",
   "name": "python",
   "nbconvert_exporter": "python",
   "pygments_lexer": "ipython2",
   "version": "2.7.9"
  }
 },
 "nbformat": 4,
 "nbformat_minor": 0
}

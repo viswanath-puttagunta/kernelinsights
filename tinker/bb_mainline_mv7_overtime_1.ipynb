{
 "cells": [
  {
   "cell_type": "code",
   "execution_count": null,
   "metadata": {
    "collapsed": false
   },
   "outputs": [],
   "source": [
    "'''Objective: '''\n",
    "import pandas as pd\n",
    "import json\n",
    "from pandas.io.json import json_normalize\n",
    "import matplotlib.pyplot as plt\n",
    "%matplotlib inline"
   ]
  },
  {
   "cell_type": "code",
   "execution_count": null,
   "metadata": {
    "collapsed": false
   },
   "outputs": [],
   "source": [
    "\"\"\"Get boot reports\"\"\"\n",
    "import requests\n",
    "from urlparse import urljoin\n",
    "import kernelci_api_key\n",
    "\n",
    "BACKEND_URL = \"http://api.kernelci.org\"\n",
    "JOB = 'mainline'\n",
    "BOARD = 'am335x-boneblack'\n",
    "DEFCONFIG = 'multi_v7_defconfig'\n",
    "DATE_RANGE = 275\n",
    "STORAGE_SERVER = 'http://storage.kernelci.org'\n",
    "\n",
    "def invoke():\n",
    "    headers = { \"Authorization\": kernelci_api_key.getkernelcikey()}\n",
    "    params = {\n",
    "        \"job\": JOB,\n",
    "        \"board\": BOARD,\n",
    "        \"defconfig\":DEFCONFIG,\n",
    "        \"date_range\": DATE_RANGE\n",
    "    }\n",
    "    url = urljoin(BACKEND_URL, \"/boot\")\n",
    "    response = requests.get(url, params=params, headers=headers)\n",
    "    return response.content"
   ]
  },
  {
   "cell_type": "code",
   "execution_count": null,
   "metadata": {
    "collapsed": false
   },
   "outputs": [],
   "source": [
    "content = invoke()\n",
    "content"
   ]
  },
  {
   "cell_type": "code",
   "execution_count": null,
   "metadata": {
    "collapsed": false
   },
   "outputs": [],
   "source": [
    "contentjs = json.loads(content)\n",
    "df = json_normalize(contentjs['result'])\n",
    "df.head()"
   ]
  },
  {
   "cell_type": "code",
   "execution_count": null,
   "metadata": {
    "collapsed": false
   },
   "outputs": [],
   "source": [
    "df.columns"
   ]
  },
  {
   "cell_type": "code",
   "execution_count": null,
   "metadata": {
    "collapsed": false
   },
   "outputs": [],
   "source": [
    "df2 = df[[u'_id.$oid',u'boot_result_description',u'created_on.$date',u'defconfig',u'git_describe',u'lab_name',u'status',u'time.$date',u'warnings']]\n",
    "df2.head()"
   ]
  },
  {
   "cell_type": "code",
   "execution_count": null,
   "metadata": {
    "collapsed": false
   },
   "outputs": [],
   "source": [
    "df2.columns"
   ]
  },
  {
   "cell_type": "code",
   "execution_count": null,
   "metadata": {
    "collapsed": false
   },
   "outputs": [],
   "source": [
    "df2.columns = [u'boot_id',u'boot_result_description', u'created_on', u'defconfig', u'git_describe', u'lab_name', u'status',u'boot_time',u'warnings']\n",
    "df2.head()"
   ]
  },
  {
   "cell_type": "code",
   "execution_count": null,
   "metadata": {
    "collapsed": false
   },
   "outputs": [],
   "source": [
    "df2['created_on'] = pd.to_datetime(df2['created_on'],unit='ms')\n",
    "df2.head()"
   ]
  },
  {
   "cell_type": "code",
   "execution_count": null,
   "metadata": {
    "collapsed": false
   },
   "outputs": [],
   "source": [
    "df2.describe(include='all')"
   ]
  },
  {
   "cell_type": "code",
   "execution_count": null,
   "metadata": {
    "collapsed": false
   },
   "outputs": [],
   "source": [
    "df2.index = df2.created_on\n",
    "df2.head()"
   ]
  },
  {
   "cell_type": "code",
   "execution_count": null,
   "metadata": {
    "collapsed": false
   },
   "outputs": [],
   "source": [
    "df2 = df2.sort_index()"
   ]
  },
  {
   "cell_type": "code",
   "execution_count": null,
   "metadata": {
    "collapsed": false
   },
   "outputs": [],
   "source": [
    "df2.status.value_counts()"
   ]
  },
  {
   "cell_type": "code",
   "execution_count": null,
   "metadata": {
    "collapsed": false
   },
   "outputs": [],
   "source": [
    "df2 = df2[(df2.status == 'PASS') | (df2.status == 'FAIL')]\n",
    "df2.status.value_counts()"
   ]
  },
  {
   "cell_type": "code",
   "execution_count": null,
   "metadata": {
    "collapsed": false
   },
   "outputs": [],
   "source": [
    "df2.head()"
   ]
  },
  {
   "cell_type": "code",
   "execution_count": null,
   "metadata": {
    "collapsed": false
   },
   "outputs": [],
   "source": [
    "df2['status_fl'] = df2.status.apply(lambda x: 1 if x=='PASS' else 0)\n",
    "df2.head()"
   ]
  },
  {
   "cell_type": "code",
   "execution_count": null,
   "metadata": {
    "collapsed": false
   },
   "outputs": [],
   "source": [
    "df3 = df2.resample('W', how='mean')\n",
    "df3.head()"
   ]
  },
  {
   "cell_type": "code",
   "execution_count": null,
   "metadata": {
    "collapsed": false
   },
   "outputs": [],
   "source": [
    "df3.status_fl.plot()\n",
    "plt.ylim(0.4,1)"
   ]
  },
  {
   "cell_type": "code",
   "execution_count": null,
   "metadata": {
    "collapsed": false
   },
   "outputs": [],
   "source": [
    "df3.boot_time.plot()"
   ]
  },
  {
   "cell_type": "code",
   "execution_count": null,
   "metadata": {
    "collapsed": false
   },
   "outputs": [],
   "source": [
    "#Select only boot_time (in secs) and git_describe\n",
    "\n",
    "#Ignore cases where boot time is 0\n",
    "df4 = df2[df2.boot_time != 0]\n",
    "df4 = df4[['boot_time', 'git_describe']]\n",
    "df4['boot_time'] = (df4['boot_time']/1000).astype(int)"
   ]
  },
  {
   "cell_type": "code",
   "execution_count": null,
   "metadata": {
    "collapsed": false
   },
   "outputs": [],
   "source": [
    "#Plot above with interaction\n",
    "\n",
    "from bokeh.plotting import figure, output_file, output_notebook, show\n",
    "from bokeh.models import ColumnDataSource, Circle, HoverTool, CustomJS\n",
    "\n",
    "(x,y,k) = (df4.index.to_series(), df4['boot_time'], df4['git_describe'])\n",
    "\n",
    "#Have to do this as Bokeh can print Dates properly on Hoever\n",
    "ts = pd.to_datetime(x.values) \n",
    "z = ts.strftime('%Y.%m.%d')\n",
    "\n",
    "\n",
    "output_notebook()\n",
    "p = figure(width=600, height=300, x_axis_type='datetime',title='boot time')\n",
    "p.line(x, y, line_dash=\"4 4\", line_width=2, color='gray')\n",
    "\n",
    "source = ColumnDataSource({'x':x, 'y':y, 'z':z, 'k':k})\n",
    "\n",
    "invisible_circle = Circle(x='x',y='y', fill_color='gray', fill_alpha=0.1, line_color=None, size=10)\n",
    "visible_circle = Circle(x='x',y='y', fill_color='firebrick', fill_alpha=0.5, line_color=None, size=10)\n",
    "\n",
    "cr = p.add_glyph(source, invisible_circle, selection_glyph=visible_circle, nonselection_glyph=invisible_circle)\n",
    "\n",
    "#Add hover tool, that selects the circle\n",
    "# Add a hover tool, that selects the circle\n",
    "code = \"source.set('selected', cb_data['index']);\"\n",
    "\n",
    "callback = CustomJS(args={'source': source}, code=code)\n",
    "\n",
    "p.add_tools(HoverTool(\n",
    "                tooltips=[\n",
    "                            (\"d\", \"@z\"),\n",
    "                            (\"bt\", \"@y\"),\n",
    "                            ('gd', \"@k\")\n",
    "                        ], \n",
    "                callback=callback, \n",
    "                renderers=[cr], \n",
    "                mode='vline'))\n",
    "\n",
    "\n",
    "show(p)"
   ]
  },
  {
   "cell_type": "code",
   "execution_count": null,
   "metadata": {
    "collapsed": true
   },
   "outputs": [],
   "source": []
  }
 ],
 "metadata": {
  "kernelspec": {
   "display_name": "Python 2",
   "language": "python",
   "name": "python2"
  },
  "language_info": {
   "codemirror_mode": {
    "name": "ipython",
    "version": 2
   },
   "file_extension": ".py",
   "mimetype": "text/x-python",
   "name": "python",
   "nbconvert_exporter": "python",
   "pygments_lexer": "ipython2",
   "version": "2.7.9"
  }
 },
 "nbformat": 4,
 "nbformat_minor": 0
}

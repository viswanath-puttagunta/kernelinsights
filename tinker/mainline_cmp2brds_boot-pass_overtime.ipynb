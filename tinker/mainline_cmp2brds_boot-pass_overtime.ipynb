{
 "cells": [
  {
   "cell_type": "code",
   "execution_count": null,
   "metadata": {
    "collapsed": false
   },
   "outputs": [],
   "source": [
    "'''Objective: Compare 2 boards over time: Boot time and pass rate'''\n",
    "import pandas as pd\n",
    "import json\n",
    "from pandas.io.json import json_normalize\n",
    "import matplotlib.pyplot as plt\n",
    "%matplotlib inline"
   ]
  },
  {
   "cell_type": "code",
   "execution_count": null,
   "metadata": {
    "collapsed": false
   },
   "outputs": [],
   "source": [
    "import requests\n",
    "from urlparse import urljoin\n",
    "import kernelci_api_key\n",
    "\n",
    "BACKEND_URL = \"http://api.kernelci.org\"\n",
    "JOB = 'mainline'\n",
    "DEFCONFIG = 'multi_v7_defconfig '\n",
    "DATE_RANGE = 200\n",
    "STORAGE_SERVER = 'http://storage.kernelci.org'\n",
    "\n",
    "def invoke(board):\n",
    "    headers = { \"Authorization\": kernelci_api_key.getkernelcikey()}\n",
    "    params = {\n",
    "        \"job\": JOB,\n",
    "        \"board\": board,\n",
    "        \"defconfig\":DEFCONFIG\n",
    "    }\n",
    "    url = urljoin(BACKEND_URL, \"/boot\")\n",
    "    response = requests.get(url, params=params, headers=headers)\n",
    "    \n",
    "    #convert string resp into json, then into DataFrame\n",
    "    contentjs = json.loads(response.content)\n",
    "    df = json_normalize(contentjs['result'])\n",
    "    \n",
    "    #only keep columns of interest and rename some columns\n",
    "    df2 = df[[u'_id.$oid',u'boot_result_description',u'created_on.$date',u'git_describe',u'lab_name',u'status',u'time.$date']]\n",
    "    df2.columns = [u'boot_id',u'boot_result_description', u'created_on',u'git_describe', u'lab_name', u'status',u'boot_time']\n",
    "\n",
    "    #Change created_on to DateTime. Then use this as index and sort\n",
    "    df2['created_on'] = pd.to_datetime(df2['created_on'],unit='ms')\n",
    "    df2.index = df2.created_on\n",
    "    df2 = df2.sort_index()\n",
    "    \n",
    "    #drop rows for df2.status=OFFLINE\n",
    "    df2 = df2[(df2.status == 'PASS') | (df2.status == 'FAIL')]\n",
    "    \n",
    "    #make new col of status in float\n",
    "    df2['status_fl'] = df2.status.apply(lambda x: 1 if x=='PASS' else 0)\n",
    "\n",
    "    #make new col of period. Used this to club(groupby) week\n",
    "    df2['period'] = df2.created_on.apply(lambda x: pd.Period(x, 'W'))\n",
    "    df2 = df2.groupby('period').mean()\n",
    "    \n",
    "    #Add boardname to col names so DataFrames can be merged later\n",
    "    cols = [board+'_'+ x for x in df2.columns]\n",
    "    df2.columns = cols\n",
    "    \n",
    "    return df2"
   ]
  },
  {
   "cell_type": "code",
   "execution_count": null,
   "metadata": {
    "collapsed": false
   },
   "outputs": [],
   "source": [
    "BOARD_1 = 'am335x-boneblack'\n",
    "BOARD_2 = 'hisi-x5hd2-dkb'\n",
    "df1 = invoke(BOARD_1)\n",
    "df2 = invoke(BOARD_2)"
   ]
  },
  {
   "cell_type": "code",
   "execution_count": null,
   "metadata": {
    "collapsed": false
   },
   "outputs": [],
   "source": [
    "df3 = df1.join(df2, how='inner')\n",
    "df3.head()"
   ]
  },
  {
   "cell_type": "code",
   "execution_count": null,
   "metadata": {
    "collapsed": false
   },
   "outputs": [],
   "source": [
    "df3[BOARD_1 + '_boot_time'].plot()\n",
    "df3[BOARD_2 + '_boot_time'].plot()\n",
    "plt.legend(['y='+BOARD_1,'y='+BOARD_2], loc='upper right')"
   ]
  },
  {
   "cell_type": "code",
   "execution_count": null,
   "metadata": {
    "collapsed": false
   },
   "outputs": [],
   "source": [
    "df3[BOARD_1 + '_status_fl'].plot()\n",
    "df3[BOARD_2 + '_status_fl'].plot()\n",
    "plt.legend(['y='+BOARD_1,'y='+BOARD_2], loc='lower right')\n",
    "plt.ylim(0.4,1)"
   ]
  },
  {
   "cell_type": "code",
   "execution_count": null,
   "metadata": {
    "collapsed": true
   },
   "outputs": [],
   "source": []
  }
 ],
 "metadata": {
  "kernelspec": {
   "display_name": "Python 2",
   "language": "python",
   "name": "python2"
  },
  "language_info": {
   "codemirror_mode": {
    "name": "ipython",
    "version": 2
   },
   "file_extension": ".py",
   "mimetype": "text/x-python",
   "name": "python",
   "nbconvert_exporter": "python",
   "pygments_lexer": "ipython2",
   "version": "2.7.9"
  }
 },
 "nbformat": 4,
 "nbformat_minor": 0
}
